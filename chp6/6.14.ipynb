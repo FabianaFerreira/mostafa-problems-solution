{
 "cells": [
  {
   "cell_type": "code",
   "execution_count": 87,
   "metadata": {},
   "outputs": [],
   "source": [
    "import pandas as pd\n",
    "import numpy as np\n",
    "import sklearn\n",
    "import matplotlib.pyplot as plt\n",
    "from scipy.optimize import minimize\n",
    "import math\n",
    "from sklearn.preprocessing import normalize\n",
    "from sklearn.neighbors import KNeighborsClassifier\n",
    "from sklearn.metrics import accuracy_score\n",
    "from scipy.spatial import distance\n",
    "import h5py\n",
    "import knn\n",
    "\n",
    "from matplotlib.colors import ListedColormap\n",
    "%matplotlib inline"
   ]
  },
  {
   "cell_type": "markdown",
   "metadata": {},
   "source": [
    "## Item a\n",
    "Preparando os dados para serem utilizados"
   ]
  },
  {
   "cell_type": "code",
   "execution_count": 45,
   "metadata": {},
   "outputs": [],
   "source": [
    "def load_zip_data(zip_data_path):\n",
    "    with h5py.File(zip_data_path, 'r') as hf:\n",
    "        train = hf.get('train')\n",
    "        X_tr = train.get('data')[:]\n",
    "        y_tr = train.get('target')[:]\n",
    "        test = hf.get('test')\n",
    "        X_te = test.get('data')[:]\n",
    "        y_te = test.get('target')[:]\n",
    "    \n",
    "    return X_tr, y_tr, X_te, y_te\n",
    "\n",
    "def set_two_classes(y_train, y_test, digit):    \n",
    "    y_train[y_train==digit] = 1\n",
    "    y_test[y_test==digit] = 1\n",
    "    \n",
    "    y_train[y_train!=digit] = -1\n",
    "    y_test[y_test!=digit] = -1\n",
    "    return y_train, y_test"
   ]
  },
  {
   "cell_type": "markdown",
   "metadata": {},
   "source": [
    "## Item b\n",
    "Calculando os erros dentro e fora da amostra para 3-NN"
   ]
  },
  {
   "cell_type": "code",
   "execution_count": 46,
   "metadata": {
    "scrolled": true
   },
   "outputs": [
    {
     "name": "stdout",
     "output_type": "stream",
     "text": [
      "X_train:  (7291, 256) y_train:  (7291,) X_test:  (2007, 256) y_test:  (2007,)\n",
      "Frequencies of the digits: \n",
      " {0: 0.16376354409546015, 1: 0.13784117405019888, 2: 0.10026059525442327, 3: 0.09024825126868742, 4: 0.08942531888629818, 5: 0.07625840076807022, 6: 0.09107118365107666, 7: 0.08846523110684405, 8: 0.07433822520916199, 9: 0.08832807570977919}\n"
     ]
    }
   ],
   "source": [
    "# Separating data\n",
    "X_train, y_train, X_test, y_test = load_zip_data('../data/usps.h5')\n",
    "\n",
    "print('X_train: ', X_train.shape, 'y_train: ',y_train.shape, 'X_test: ',X_test.shape, 'y_test: ', y_test.shape)\n",
    "unique, counts = np.unique(y_train, return_counts=True)\n",
    "freqs = counts/len(y_train)\n",
    "print('Frequencies of the digits: \\n', dict(zip(unique, freqs)))\n",
    "\n",
    "y_train, y_test = set_two_classes(y_train, y_test, 1)"
   ]
  },
  {
   "cell_type": "code",
   "execution_count": 47,
   "metadata": {},
   "outputs": [],
   "source": [
    "nbrs = KNeighborsClassifier(n_neighbors=3).fit(X_train, y_train)"
   ]
  },
  {
   "cell_type": "code",
   "execution_count": 48,
   "metadata": {},
   "outputs": [],
   "source": [
    "e_in = 1 - accuracy_score(y_train, nbrs.predict(X_train))\n",
    "e_out = 1 - accuracy_score(y_test, nbrs.predict(X_test))"
   ]
  },
  {
   "cell_type": "code",
   "execution_count": 49,
   "metadata": {},
   "outputs": [
    {
     "name": "stdout",
     "output_type": "stream",
     "text": [
      "In-sample error = 0.0015 | Out of sample error = 0.005\n"
     ]
    }
   ],
   "source": [
    "print(f\"In-sample error = {round(e_in, 4)} | Out of sample error = {round(e_out, 4)}\")"
   ]
  },
  {
   "cell_type": "markdown",
   "metadata": {},
   "source": [
    "## Item c"
   ]
  },
  {
   "cell_type": "code",
   "execution_count": 110,
   "metadata": {},
   "outputs": [],
   "source": [
    "def find_nn_idx(x, X, k):\n",
    "    distances = dist(x, X).ravel()\n",
    "    order = np.argsort(np.array(distances))\n",
    "    return order[:k], distances[order[:k]]\n",
    "\n",
    "def dist(x, z, dist_type= 'euclidean'):\n",
    "    res = distance.cdist(x, z, dist_type)\n",
    "    return res\n",
    "\n",
    "class CNN:\n",
    "    def __init__(self, k):\n",
    "        self.k = k\n",
    "\n",
    "    def init_cnn(self, X):\n",
    "        N = X.shape[0]\n",
    "        S_idx = np.random.choice(N, self.k)\n",
    "        return S_idx\n",
    "\n",
    "    def find_inconsistency(self, X, y, cnn, onn):\n",
    "        found = False        \n",
    "        for ix, x1 in enumerate(X):\n",
    "            x1 = x1.reshape(1, -1)\n",
    "            y1 = cnn.predict(x1)\n",
    "            yo = onn.predict(x1)\n",
    "            if y1 != yo:\n",
    "                found = True\n",
    "                break\n",
    "        inconsistent_idx = ix if found else None\n",
    "        return inconsistent_idx, x1, yo\n",
    "\n",
    "    def setup_cnn(self, X, y, S_idx):\n",
    "        S = X[S_idx, :]\n",
    "        ys = y[S_idx]\n",
    "        cnn = KNeighborsClassifier(n_neighbors=self.k).fit(S, ys)\n",
    "        return cnn\n",
    "\n",
    "    def augment_S(self, X, y, inconsistent_y, neighbors_idx, S_idx):\n",
    "        found = False\n",
    "        for ix in neighbors_idx:\n",
    "            print(y.shape, y[ix].shape)\n",
    "            if ix in S_idx:\n",
    "                continue\n",
    "            if np.equal(y[ix], inconsistent_y):\n",
    "                found = True \n",
    "                break\n",
    "        if found:\n",
    "            S_idx = np.append(S_idx, ix)\n",
    "        else:\n",
    "            print(\"Can't find a new idx.\")\n",
    "        return S_idx\n",
    "\n",
    "    def find_cnn(self, X, y):\n",
    "        N, _ = X.shape\n",
    "        S_idx = self.init_cnn(X)\n",
    "        onn = KNeighborsClassifier(n_neighbors=self.k).fit(X, y)\n",
    "        while True:\n",
    "            cnn = self.setup_cnn(X, y, S_idx)\n",
    "            inconsistent_idx, inconsistent_x, inconsistent_y = self.find_inconsistency(X, y, cnn, onn)\n",
    "            if inconsistent_idx is None:\n",
    "                break\n",
    "            neighbors_idx = find_nn_idx(inconsistent_x, X, N)\n",
    "\n",
    "            S_idx = self.augment_S(X, y, inconsistent_y, neighbors_idx, S_idx)\n",
    "            if len(S_idx) == old_s:\n",
    "                print('No new point added into S. Exit.')\n",
    "                break\n",
    "        S = X[S_idx, :]\n",
    "        Sy = y[S_idx]\n",
    "        return S_idx, S, Sy"
   ]
  },
  {
   "cell_type": "code",
   "execution_count": 111,
   "metadata": {},
   "outputs": [
    {
     "name": "stdout",
     "output_type": "stream",
     "text": [
      "(7291,) (7291,)\n"
     ]
    },
    {
     "name": "stderr",
     "output_type": "stream",
     "text": [
      "/home/fabiana/Downloads/yes/lib/python3.7/site-packages/ipykernel_launcher.py:41: DeprecationWarning: elementwise comparison failed; this will raise an error in the future.\n"
     ]
    },
    {
     "ename": "ValueError",
     "evalue": "The truth value of an array with more than one element is ambiguous. Use a.any() or a.all()",
     "output_type": "error",
     "traceback": [
      "\u001b[0;31m---------------------------------------------------------------------------\u001b[0m",
      "\u001b[0;31mValueError\u001b[0m                                Traceback (most recent call last)",
      "\u001b[0;32m<ipython-input-111-e748827ba942>\u001b[0m in \u001b[0;36m<module>\u001b[0;34m\u001b[0m\n\u001b[1;32m      1\u001b[0m \u001b[0mk\u001b[0m \u001b[0;34m=\u001b[0m \u001b[0;36m3\u001b[0m\u001b[0;34m\u001b[0m\u001b[0;34m\u001b[0m\u001b[0m\n\u001b[1;32m      2\u001b[0m \u001b[0mcnn\u001b[0m \u001b[0;34m=\u001b[0m \u001b[0mCNN\u001b[0m\u001b[0;34m(\u001b[0m\u001b[0mk\u001b[0m\u001b[0;34m)\u001b[0m\u001b[0;34m\u001b[0m\u001b[0;34m\u001b[0m\u001b[0m\n\u001b[0;32m----> 3\u001b[0;31m \u001b[0mS_idx\u001b[0m\u001b[0;34m,\u001b[0m \u001b[0mS\u001b[0m\u001b[0;34m,\u001b[0m \u001b[0mSy\u001b[0m \u001b[0;34m=\u001b[0m \u001b[0mcnn\u001b[0m\u001b[0;34m.\u001b[0m\u001b[0mfind_cnn\u001b[0m\u001b[0;34m(\u001b[0m\u001b[0mX_train\u001b[0m\u001b[0;34m,\u001b[0m \u001b[0my_train\u001b[0m\u001b[0;34m)\u001b[0m\u001b[0;34m\u001b[0m\u001b[0;34m\u001b[0m\u001b[0m\n\u001b[0m\u001b[1;32m      4\u001b[0m \u001b[0;34m\u001b[0m\u001b[0m\n\u001b[1;32m      5\u001b[0m \u001b[0mX_cnn\u001b[0m\u001b[0;34m,\u001b[0m \u001b[0my_cnn\u001b[0m \u001b[0;34m=\u001b[0m \u001b[0mX_train\u001b[0m\u001b[0;34m[\u001b[0m\u001b[0mS_idx\u001b[0m\u001b[0;34m,\u001b[0m \u001b[0;34m:\u001b[0m\u001b[0;34m]\u001b[0m\u001b[0;34m,\u001b[0m \u001b[0my_train\u001b[0m\u001b[0;34m[\u001b[0m\u001b[0mS_idx\u001b[0m\u001b[0;34m]\u001b[0m\u001b[0;34m\u001b[0m\u001b[0;34m\u001b[0m\u001b[0m\n",
      "\u001b[0;32m<ipython-input-110-dc6bde391678>\u001b[0m in \u001b[0;36mfind_cnn\u001b[0;34m(self, X, y)\u001b[0m\n\u001b[1;32m     61\u001b[0m             \u001b[0mneighbors_idx\u001b[0m \u001b[0;34m=\u001b[0m \u001b[0mfind_nn_idx\u001b[0m\u001b[0;34m(\u001b[0m\u001b[0minconsistent_x\u001b[0m\u001b[0;34m,\u001b[0m \u001b[0mX\u001b[0m\u001b[0;34m,\u001b[0m \u001b[0mN\u001b[0m\u001b[0;34m)\u001b[0m\u001b[0;34m\u001b[0m\u001b[0;34m\u001b[0m\u001b[0m\n\u001b[1;32m     62\u001b[0m \u001b[0;34m\u001b[0m\u001b[0m\n\u001b[0;32m---> 63\u001b[0;31m             \u001b[0mS_idx\u001b[0m \u001b[0;34m=\u001b[0m \u001b[0mself\u001b[0m\u001b[0;34m.\u001b[0m\u001b[0maugment_S\u001b[0m\u001b[0;34m(\u001b[0m\u001b[0mX\u001b[0m\u001b[0;34m,\u001b[0m \u001b[0my\u001b[0m\u001b[0;34m,\u001b[0m \u001b[0minconsistent_y\u001b[0m\u001b[0;34m,\u001b[0m \u001b[0mneighbors_idx\u001b[0m\u001b[0;34m,\u001b[0m \u001b[0mS_idx\u001b[0m\u001b[0;34m)\u001b[0m\u001b[0;34m\u001b[0m\u001b[0;34m\u001b[0m\u001b[0m\n\u001b[0m\u001b[1;32m     64\u001b[0m             \u001b[0;32mif\u001b[0m \u001b[0mlen\u001b[0m\u001b[0;34m(\u001b[0m\u001b[0mS_idx\u001b[0m\u001b[0;34m)\u001b[0m \u001b[0;34m==\u001b[0m \u001b[0mold_s\u001b[0m\u001b[0;34m:\u001b[0m\u001b[0;34m\u001b[0m\u001b[0;34m\u001b[0m\u001b[0m\n\u001b[1;32m     65\u001b[0m                 \u001b[0mprint\u001b[0m\u001b[0;34m(\u001b[0m\u001b[0;34m'No new point added into S. Exit.'\u001b[0m\u001b[0;34m)\u001b[0m\u001b[0;34m\u001b[0m\u001b[0;34m\u001b[0m\u001b[0m\n",
      "\u001b[0;32m<ipython-input-110-dc6bde391678>\u001b[0m in \u001b[0;36maugment_S\u001b[0;34m(self, X, y, inconsistent_y, neighbors_idx, S_idx)\u001b[0m\n\u001b[1;32m     41\u001b[0m             \u001b[0;32mif\u001b[0m \u001b[0mix\u001b[0m \u001b[0;32min\u001b[0m \u001b[0mS_idx\u001b[0m\u001b[0;34m:\u001b[0m\u001b[0;34m\u001b[0m\u001b[0;34m\u001b[0m\u001b[0m\n\u001b[1;32m     42\u001b[0m                 \u001b[0;32mcontinue\u001b[0m\u001b[0;34m\u001b[0m\u001b[0;34m\u001b[0m\u001b[0m\n\u001b[0;32m---> 43\u001b[0;31m             \u001b[0;32mif\u001b[0m \u001b[0mnp\u001b[0m\u001b[0;34m.\u001b[0m\u001b[0mequal\u001b[0m\u001b[0;34m(\u001b[0m\u001b[0my\u001b[0m\u001b[0;34m[\u001b[0m\u001b[0mix\u001b[0m\u001b[0;34m]\u001b[0m\u001b[0;34m,\u001b[0m \u001b[0minconsistent_y\u001b[0m\u001b[0;34m)\u001b[0m\u001b[0;34m:\u001b[0m\u001b[0;34m\u001b[0m\u001b[0;34m\u001b[0m\u001b[0m\n\u001b[0m\u001b[1;32m     44\u001b[0m                 \u001b[0mfound\u001b[0m \u001b[0;34m=\u001b[0m \u001b[0;32mTrue\u001b[0m\u001b[0;34m\u001b[0m\u001b[0;34m\u001b[0m\u001b[0m\n\u001b[1;32m     45\u001b[0m                 \u001b[0;32mbreak\u001b[0m\u001b[0;34m\u001b[0m\u001b[0;34m\u001b[0m\u001b[0m\n",
      "\u001b[0;31mValueError\u001b[0m: The truth value of an array with more than one element is ambiguous. Use a.any() or a.all()"
     ]
    }
   ],
   "source": [
    "k = 3\n",
    "cnn = CNN(k)\n",
    "S_idx, S, Sy = cnn.find_cnn(X_train, y_train)\n",
    "\n",
    "X_cnn, y_cnn = X_train[S_idx, :], y_train[S_idx]\n",
    "\n",
    "\n",
    "cnn_cls = KNearestNeighbors(n_neighbors=k).fit(X_cnn, y_cnn) # 3-NN with condensed data\n",
    "cls = KNearestNeighbors(n_neighbors=k).fit(X_train, y_train) # 3-NN with original data\n",
    "\n",
    "# print('---- Prediction with Condensed Data: In-Sample Error')\n",
    "# y_pred_cnn_3 = cnn_cls.predict(X_cnn)\n",
    "# diff_cnn_3 = y_cnn - y_pred_cnn_3\n",
    "# diff_cnn_3[diff_cnn_3 !=0] = 1\n",
    "# E_in_cnn_3 = np.sum(diff_cnn_3!=0)/len(y_cnn)\n",
    "# print('3-NN with CNN E_{in}: ', E_in_cnn_3)\n",
    "\n",
    "\n",
    "# print('------ Check if CNN is traing set consistent ------')\n",
    "# y_pred_orig_train_cnn_3 = cnn_cls.predict(X_train)\n",
    "# y_pred_orig_train_nn_3 = cls.predict(X_tr)\n",
    "# diff_orig_train_cnn_3 = y_pred_orig_train_nn_3 - y_pred_orig_train_cnn_3\n",
    "# diff_orig_train_cnn_3[diff_orig_train_cnn_3 !=0] = 1\n",
    "# E_in_orig_train_cnn_3 = np.sum(diff_orig_train_cnn_3!=0)/len(y_train)\n",
    "# print('Differences between 3NN using original data and condensed data: ', E_in_orig_train_cnn_3)\n",
    "\n",
    "# print('------ Test error of CNN with condensed data ------') \n",
    "# y_pred_cnn_te_3 = cnn_cls.predict(X_te)\n",
    "# diff_cnn_te_3 = y_test - y_pred_cnn_te_3\n",
    "# diff_cnn_te_3[diff_cnn_te_3 !=0] = 1\n",
    "# E_out_cnn_3 = np.sum(diff_cnn_te_3!=0)/len(y_test)\n",
    "# print('3-NN with CNN on test data E_{out}: ', E_out_cnn_3)"
   ]
  },
  {
   "cell_type": "code",
   "execution_count": null,
   "metadata": {},
   "outputs": [],
   "source": []
  },
  {
   "cell_type": "code",
   "execution_count": null,
   "metadata": {},
   "outputs": [],
   "source": []
  }
 ],
 "metadata": {
  "kernelspec": {
   "display_name": "Python 3",
   "language": "python",
   "name": "python3"
  },
  "language_info": {
   "codemirror_mode": {
    "name": "ipython",
    "version": 3
   },
   "file_extension": ".py",
   "mimetype": "text/x-python",
   "name": "python",
   "nbconvert_exporter": "python",
   "pygments_lexer": "ipython3",
   "version": "3.7.4"
  }
 },
 "nbformat": 4,
 "nbformat_minor": 4
}
