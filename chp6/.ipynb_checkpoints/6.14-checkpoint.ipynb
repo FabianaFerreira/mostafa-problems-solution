{
 "cells": [
  {
   "cell_type": "code",
   "execution_count": 17,
   "metadata": {},
   "outputs": [],
   "source": [
    "import pandas as pd\n",
    "import numpy as np\n",
    "import sklearn\n",
    "import matplotlib.pyplot as plt\n",
    "from scipy.optimize import minimize\n",
    "import math\n",
    "from sklearn.preprocessing import normalize\n",
    "import h5py\n",
    "\n",
    "from matplotlib.colors import ListedColormap\n",
    "%matplotlib inline"
   ]
  },
  {
   "cell_type": "markdown",
   "metadata": {},
   "source": [
    "## Item a\n",
    "Preparando os dados para serem utilizados"
   ]
  },
  {
   "cell_type": "code",
   "execution_count": 20,
   "metadata": {},
   "outputs": [],
   "source": [
    "# USPS Zip Code Data for Handwritten Recognition\n",
    "def load_zip_data(zip_data_path):\n",
    "    \"\"\"Load the USPS zip code data\n",
    "    https://www.kaggle.com/bistaumanga/usps-dataset/data\n",
    "    \"\"\"\n",
    "    with h5py.File(zip_data_path, 'r') as hf:\n",
    "        train = hf.get('train')\n",
    "        X_tr = train.get('data')[:]\n",
    "        y_tr = train.get('target')[:]\n",
    "        test = hf.get('test')\n",
    "        X_te = test.get('data')[:]\n",
    "        y_te = test.get('target')[:]\n",
    "    \n",
    "    return X_tr, y_tr, X_te, y_te\n",
    "\n",
    "def set_two_classes(y_train, y_test, digit):    \n",
    "    y_train[y_train==digit] = 1\n",
    "    y_test[y_test==digit] = 1\n",
    "    \n",
    "    y_train[y_train!=digit] = -1\n",
    "    y_test[y_test!=digit] = -1\n",
    "    return y_train, y_test"
   ]
  },
  {
   "cell_type": "code",
   "execution_count": 23,
   "metadata": {},
   "outputs": [
    {
     "name": "stdout",
     "output_type": "stream",
     "text": [
      "X_train:  (7291, 256) y_train:  (7291,) X_test:  (2007, 256) y_test:  (2007,)\n",
      "Frequencies of the digits: \n",
      " {0: 0.16376354409546015, 1: 0.13784117405019888, 2: 0.10026059525442327, 3: 0.09024825126868742, 4: 0.08942531888629818, 5: 0.07625840076807022, 6: 0.09107118365107666, 7: 0.08846523110684405, 8: 0.07433822520916199, 9: 0.08832807570977919}\n"
     ]
    }
   ],
   "source": [
    "X_train, y_train, X_test, y_test = load_zip_data('../data/usps.h5')\n",
    "\n",
    "print('X_train: ', X_train.shape, 'y_train: ',y_train.shape, 'X_test: ',X_test.shape, 'y_test: ', y_test.shape)\n",
    "unique, counts = np.unique(y_train, return_counts=True)\n",
    "freqs = counts/len(y_train)\n",
    "print('Frequencies of the digits: \\n', dict(zip(unique, freqs)))\n",
    "\n",
    "y_train, y_test = set_two_classes(y_train, y_test, 1)"
   ]
  }
 ],
 "metadata": {
  "kernelspec": {
   "display_name": "Python 3",
   "language": "python",
   "name": "python3"
  },
  "language_info": {
   "codemirror_mode": {
    "name": "ipython",
    "version": 3
   },
   "file_extension": ".py",
   "mimetype": "text/x-python",
   "name": "python",
   "nbconvert_exporter": "python",
   "pygments_lexer": "ipython3",
   "version": "3.7.4"
  }
 },
 "nbformat": 4,
 "nbformat_minor": 4
}
